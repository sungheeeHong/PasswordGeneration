{
 "cells": [
  {
   "cell_type": "markdown",
   "metadata": {},
   "source": [
    "각 embedding model이 같은 폴더 안에 있다는 전제 하에 진행"
   ]
  },
  {
   "cell_type": "code",
   "execution_count": 1,
   "metadata": {},
   "outputs": [],
   "source": [
    "# User Input을 받는 과정은 생략. 다음과 같은 형태로 입력된다고 가정\n",
    "u_input_1 = \"I am a boy\"\n",
    "u_input_2 = \"Coffee and cookie\"\n",
    "u_input_3 = \"Hiphop\"\n",
    "\n",
    "user_input = [u_input_1, u_input_2, u_input_3]"
   ]
  },
  {
   "cell_type": "code",
   "execution_count": 2,
   "metadata": {},
   "outputs": [],
   "source": [
    "# User input preprocessing\n",
    "from preprocUserInput import PreprocUserInput\n",
    "\n",
    "preprocUserInput = PreprocUserInput(user_input=user_input)"
   ]
  },
  {
   "cell_type": "code",
   "execution_count": 3,
   "metadata": {},
   "outputs": [
    {
     "name": "stdout",
     "output_type": "stream",
     "text": [
      "--------------------\n",
      "This is your input\n",
      "I am a boy | Coffee and cookie | Hiphop\n",
      "\n",
      "This is server input\n",
      "I am a boy | 3097 | Hiphop | Coffee and cookie\n",
      "\n",
      "This is your secret sentence\n",
      "Law Frightened law wacky\n",
      "\n",
      "This is each cosine similarity\n",
      "0.70947194 | 0.7234870752180719 | 0.7305939 | 0.70219874\n",
      "--------------------\n"
     ]
    }
   ],
   "source": [
    "from inputEncoder import InputEncoder\n",
    "\n",
    "# HE 상에서 dot product를 계산하는 함수를 dot_product에 대입. \n",
    "# dot_product의 결과는 n*1의 한 pos에 대한 cos_similarity 결과 벡터\n",
    "inputEncoder = InputEncoder(preprocUserInput = preprocUserInput, dot_product=None)"
   ]
  },
  {
   "cell_type": "code",
   "execution_count": 4,
   "metadata": {},
   "outputs": [
    {
     "name": "stdout",
     "output_type": "stream",
     "text": [
      "self.secret_sent:  ['Law', 'Frightened', 'law', 'wacky']\n",
      "pos:  NN\n",
      "pos:  VB\n",
      "pos:  NN\n",
      "pos:  JJ\n",
      "--------------------\n",
      "This is your secret sentence\n",
      "Law Frightened law wacky\n",
      "\n",
      "This is your password\n",
      "LawFrtyuightrenedlkjhgfdsawwacky\n",
      "--------------------\n"
     ]
    },
    {
     "data": {
      "text/plain": [
       "<outputEncoder.OutputEncoder at 0x1c466af87d0>"
      ]
     },
     "execution_count": 4,
     "metadata": {},
     "output_type": "execute_result"
    }
   ],
   "source": [
    "from outputEncoder import OutputEncoder\n",
    "\n",
    "OutputEncoder(inputEncoder = inputEncoder)"
   ]
  },
  {
   "cell_type": "code",
   "execution_count": null,
   "metadata": {},
   "outputs": [],
   "source": []
  }
 ],
 "metadata": {
  "kernelspec": {
   "display_name": "Python 3",
   "language": "python",
   "name": "python3"
  },
  "language_info": {
   "codemirror_mode": {
    "name": "ipython",
    "version": 3
   },
   "file_extension": ".py",
   "mimetype": "text/x-python",
   "name": "python",
   "nbconvert_exporter": "python",
   "pygments_lexer": "ipython3",
   "version": "3.11.4"
  },
  "orig_nbformat": 4
 },
 "nbformat": 4,
 "nbformat_minor": 2
}
